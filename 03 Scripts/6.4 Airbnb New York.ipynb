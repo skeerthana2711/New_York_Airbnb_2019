{
 "cells": [
  {
   "cell_type": "markdown",
   "id": "3c626a81",
   "metadata": {},
   "source": [
    "### This script contains the following:\n",
    "\n",
    "#### 1. Importing libraries and data\n",
    "#### 2. Data cleaning\n",
    "#### 3. Data prep for regression analysis\n",
    "#### 4. Regression analysis\n",
    "#### Bonus: performance improvement after removing outliers"
   ]
  },
  {
   "cell_type": "markdown",
   "id": "be15d506",
   "metadata": {},
   "source": [
    "## 1. Importing libraries and data"
   ]
  },
  {
   "cell_type": "code",
   "execution_count": 1,
   "id": "d12f5770",
   "metadata": {},
   "outputs": [],
   "source": [
    "import pandas as pd\n",
    "import numpy as np\n",
    "import seaborn as sns\n",
    "import matplotlib\n",
    "import matplotlib.pyplot as plt\n",
    "import os\n",
    "import sklearn\n",
    "from sklearn.model_selection import train_test_split \n",
    "from sklearn.linear_model import LinearRegression\n",
    "from sklearn.metrics import mean_squared_error, r2_score"
   ]
  },
  {
   "cell_type": "code",
   "execution_count": 2,
   "id": "d0fe4bf5",
   "metadata": {},
   "outputs": [],
   "source": [
    "# This option ensures that the graphs you create are displayed within the notebook without the need to \"call\" them specifically.\n",
    "\n",
    "%matplotlib inline"
   ]
  },
  {
   "cell_type": "code",
   "execution_count": 3,
   "id": "f18d3bdc",
   "metadata": {},
   "outputs": [],
   "source": [
    "path = r'C:\\Users\\S Keerthana\\Desktop\\Career Foundry\\Achivement 6\\02 Data'"
   ]
  },
  {
   "cell_type": "markdown",
   "id": "5cb843c5",
   "metadata": {},
   "source": [
    "## Data"
   ]
  },
  {
   "cell_type": "code",
   "execution_count": 4,
   "id": "0fd15cd9",
   "metadata": {},
   "outputs": [],
   "source": [
    "#Importing llisting data\n",
    "df=pd.read_csv(os.path.join(path,'Prepared Data','newyork_final.csv'),index_col=False)"
   ]
  },
  {
   "cell_type": "markdown",
   "id": "b71cde6a",
   "metadata": {},
   "source": [
    "## 2. Data cleaning"
   ]
  },
  {
   "cell_type": "code",
   "execution_count": 5,
   "id": "4e8f4bbb",
   "metadata": {},
   "outputs": [
    {
     "data": {
      "text/plain": [
       "Index(['Listing_id', 'Host_id', 'neighbourhood_group', 'neighbourhood',\n",
       "       'latitude', 'longitude', 'Room_type', 'Price_list', 'Rating',\n",
       "       'Availability_365', 'location', 'D.Train', 'D.airport',\n",
       "       'D.Statue_of_liberty'],\n",
       "      dtype='object')"
      ]
     },
     "execution_count": 5,
     "metadata": {},
     "output_type": "execute_result"
    }
   ],
   "source": [
    "df.columns"
   ]
  },
  {
   "cell_type": "code",
   "execution_count": 6,
   "id": "be56c3ca",
   "metadata": {},
   "outputs": [
    {
     "data": {
      "text/html": [
       "<div>\n",
       "<style scoped>\n",
       "    .dataframe tbody tr th:only-of-type {\n",
       "        vertical-align: middle;\n",
       "    }\n",
       "\n",
       "    .dataframe tbody tr th {\n",
       "        vertical-align: top;\n",
       "    }\n",
       "\n",
       "    .dataframe thead th {\n",
       "        text-align: right;\n",
       "    }\n",
       "</style>\n",
       "<table border=\"1\" class=\"dataframe\">\n",
       "  <thead>\n",
       "    <tr style=\"text-align: right;\">\n",
       "      <th></th>\n",
       "      <th>Listing_id</th>\n",
       "      <th>Host_id</th>\n",
       "      <th>neighbourhood_group</th>\n",
       "      <th>neighbourhood</th>\n",
       "      <th>latitude</th>\n",
       "      <th>longitude</th>\n",
       "      <th>Room_type</th>\n",
       "      <th>Price_list</th>\n",
       "      <th>Rating</th>\n",
       "      <th>Availability_365</th>\n",
       "      <th>location</th>\n",
       "      <th>D.Train</th>\n",
       "      <th>D.airport</th>\n",
       "      <th>D.Statue_of_liberty</th>\n",
       "    </tr>\n",
       "  </thead>\n",
       "  <tbody>\n",
       "    <tr>\n",
       "      <th>0</th>\n",
       "      <td>2539</td>\n",
       "      <td>2787</td>\n",
       "      <td>Brooklyn</td>\n",
       "      <td>Kensington</td>\n",
       "      <td>40.64749</td>\n",
       "      <td>-73.97237</td>\n",
       "      <td>Private room</td>\n",
       "      <td>149.0</td>\n",
       "      <td>0.21</td>\n",
       "      <td>365</td>\n",
       "      <td>(40.64749, -73.97237)</td>\n",
       "      <td>11.699223</td>\n",
       "      <td>16.388641</td>\n",
       "      <td>7.652417</td>\n",
       "    </tr>\n",
       "    <tr>\n",
       "      <th>1</th>\n",
       "      <td>2595</td>\n",
       "      <td>2845</td>\n",
       "      <td>Manhattan</td>\n",
       "      <td>Midtown</td>\n",
       "      <td>40.75362</td>\n",
       "      <td>-73.98377</td>\n",
       "      <td>Entire home/apt</td>\n",
       "      <td>225.0</td>\n",
       "      <td>0.38</td>\n",
       "      <td>355</td>\n",
       "      <td>(40.75362, -73.98377)</td>\n",
       "      <td>0.560817</td>\n",
       "      <td>21.443784</td>\n",
       "      <td>8.803805</td>\n",
       "    </tr>\n",
       "    <tr>\n",
       "      <th>2</th>\n",
       "      <td>3647</td>\n",
       "      <td>4632</td>\n",
       "      <td>Manhattan</td>\n",
       "      <td>Harlem</td>\n",
       "      <td>40.80902</td>\n",
       "      <td>-73.94190</td>\n",
       "      <td>Private room</td>\n",
       "      <td>150.0</td>\n",
       "      <td>0.00</td>\n",
       "      <td>365</td>\n",
       "      <td>(40.80902, -73.9419)</td>\n",
       "      <td>6.920867</td>\n",
       "      <td>23.304873</td>\n",
       "      <td>15.879021</td>\n",
       "    </tr>\n",
       "    <tr>\n",
       "      <th>3</th>\n",
       "      <td>3831</td>\n",
       "      <td>4869</td>\n",
       "      <td>Brooklyn</td>\n",
       "      <td>Clinton Hill</td>\n",
       "      <td>40.68514</td>\n",
       "      <td>-73.95976</td>\n",
       "      <td>Entire home/apt</td>\n",
       "      <td>89.0</td>\n",
       "      <td>4.64</td>\n",
       "      <td>194</td>\n",
       "      <td>(40.68514, -73.95976)</td>\n",
       "      <td>7.654630</td>\n",
       "      <td>16.105092</td>\n",
       "      <td>7.172440</td>\n",
       "    </tr>\n",
       "    <tr>\n",
       "      <th>4</th>\n",
       "      <td>5022</td>\n",
       "      <td>7192</td>\n",
       "      <td>Manhattan</td>\n",
       "      <td>East Harlem</td>\n",
       "      <td>40.79851</td>\n",
       "      <td>-73.94399</td>\n",
       "      <td>Entire home/apt</td>\n",
       "      <td>80.0</td>\n",
       "      <td>0.10</td>\n",
       "      <td>0</td>\n",
       "      <td>(40.79851, -73.94399)</td>\n",
       "      <td>5.801883</td>\n",
       "      <td>22.483763</td>\n",
       "      <td>14.812923</td>\n",
       "    </tr>\n",
       "    <tr>\n",
       "      <th>5</th>\n",
       "      <td>5099</td>\n",
       "      <td>7322</td>\n",
       "      <td>Manhattan</td>\n",
       "      <td>Murray Hill</td>\n",
       "      <td>40.74767</td>\n",
       "      <td>-73.97500</td>\n",
       "      <td>Entire home/apt</td>\n",
       "      <td>200.0</td>\n",
       "      <td>0.59</td>\n",
       "      <td>129</td>\n",
       "      <td>(40.74767, -73.975)</td>\n",
       "      <td>0.597472</td>\n",
       "      <td>20.456315</td>\n",
       "      <td>8.754084</td>\n",
       "    </tr>\n",
       "    <tr>\n",
       "      <th>6</th>\n",
       "      <td>5121</td>\n",
       "      <td>7356</td>\n",
       "      <td>Brooklyn</td>\n",
       "      <td>Bedford-Stuyvesant</td>\n",
       "      <td>40.68688</td>\n",
       "      <td>-73.95596</td>\n",
       "      <td>Private room</td>\n",
       "      <td>60.0</td>\n",
       "      <td>0.40</td>\n",
       "      <td>0</td>\n",
       "      <td>(40.68688, -73.95596)</td>\n",
       "      <td>7.535148</td>\n",
       "      <td>15.862788</td>\n",
       "      <td>7.483919</td>\n",
       "    </tr>\n",
       "    <tr>\n",
       "      <th>7</th>\n",
       "      <td>5178</td>\n",
       "      <td>8967</td>\n",
       "      <td>Manhattan</td>\n",
       "      <td>Hell's Kitchen</td>\n",
       "      <td>40.76489</td>\n",
       "      <td>-73.98493</td>\n",
       "      <td>Private room</td>\n",
       "      <td>79.0</td>\n",
       "      <td>3.47</td>\n",
       "      <td>220</td>\n",
       "      <td>(40.76489, -73.98493)</td>\n",
       "      <td>1.494234</td>\n",
       "      <td>22.280375</td>\n",
       "      <td>9.797407</td>\n",
       "    </tr>\n",
       "    <tr>\n",
       "      <th>8</th>\n",
       "      <td>5203</td>\n",
       "      <td>7490</td>\n",
       "      <td>Manhattan</td>\n",
       "      <td>Upper West Side</td>\n",
       "      <td>40.80178</td>\n",
       "      <td>-73.96723</td>\n",
       "      <td>Private room</td>\n",
       "      <td>79.0</td>\n",
       "      <td>0.99</td>\n",
       "      <td>0</td>\n",
       "      <td>(40.80178, -73.96723)</td>\n",
       "      <td>5.506640</td>\n",
       "      <td>24.022556</td>\n",
       "      <td>14.103789</td>\n",
       "    </tr>\n",
       "    <tr>\n",
       "      <th>9</th>\n",
       "      <td>5238</td>\n",
       "      <td>7549</td>\n",
       "      <td>Manhattan</td>\n",
       "      <td>Chinatown</td>\n",
       "      <td>40.71344</td>\n",
       "      <td>-73.99037</td>\n",
       "      <td>Entire home/apt</td>\n",
       "      <td>150.0</td>\n",
       "      <td>1.33</td>\n",
       "      <td>188</td>\n",
       "      <td>(40.71344, -73.99037)</td>\n",
       "      <td>4.507416</td>\n",
       "      <td>19.664608</td>\n",
       "      <td>5.305703</td>\n",
       "    </tr>\n",
       "    <tr>\n",
       "      <th>10</th>\n",
       "      <td>5295</td>\n",
       "      <td>7702</td>\n",
       "      <td>Manhattan</td>\n",
       "      <td>Upper West Side</td>\n",
       "      <td>40.80316</td>\n",
       "      <td>-73.96545</td>\n",
       "      <td>Entire home/apt</td>\n",
       "      <td>135.0</td>\n",
       "      <td>0.43</td>\n",
       "      <td>6</td>\n",
       "      <td>(40.80316, -73.96545)</td>\n",
       "      <td>5.682471</td>\n",
       "      <td>24.038589</td>\n",
       "      <td>14.309289</td>\n",
       "    </tr>\n",
       "    <tr>\n",
       "      <th>11</th>\n",
       "      <td>5441</td>\n",
       "      <td>7989</td>\n",
       "      <td>Manhattan</td>\n",
       "      <td>Hell's Kitchen</td>\n",
       "      <td>40.76076</td>\n",
       "      <td>-73.98867</td>\n",
       "      <td>Private room</td>\n",
       "      <td>85.0</td>\n",
       "      <td>1.50</td>\n",
       "      <td>39</td>\n",
       "      <td>(40.76076, -73.98867)</td>\n",
       "      <td>1.311574</td>\n",
       "      <td>22.248658</td>\n",
       "      <td>9.241770</td>\n",
       "    </tr>\n",
       "    <tr>\n",
       "      <th>12</th>\n",
       "      <td>5803</td>\n",
       "      <td>9744</td>\n",
       "      <td>Brooklyn</td>\n",
       "      <td>South Slope</td>\n",
       "      <td>40.66829</td>\n",
       "      <td>-73.98779</td>\n",
       "      <td>Private room</td>\n",
       "      <td>89.0</td>\n",
       "      <td>1.34</td>\n",
       "      <td>314</td>\n",
       "      <td>(40.66829, -73.98779)</td>\n",
       "      <td>9.424654</td>\n",
       "      <td>17.950067</td>\n",
       "      <td>5.321240</td>\n",
       "    </tr>\n",
       "    <tr>\n",
       "      <th>13</th>\n",
       "      <td>6021</td>\n",
       "      <td>11528</td>\n",
       "      <td>Manhattan</td>\n",
       "      <td>Upper West Side</td>\n",
       "      <td>40.79826</td>\n",
       "      <td>-73.96113</td>\n",
       "      <td>Private room</td>\n",
       "      <td>85.0</td>\n",
       "      <td>0.91</td>\n",
       "      <td>333</td>\n",
       "      <td>(40.79826, -73.96113)</td>\n",
       "      <td>5.230261</td>\n",
       "      <td>23.388938</td>\n",
       "      <td>14.010013</td>\n",
       "    </tr>\n",
       "    <tr>\n",
       "      <th>14</th>\n",
       "      <td>6090</td>\n",
       "      <td>11975</td>\n",
       "      <td>Manhattan</td>\n",
       "      <td>West Village</td>\n",
       "      <td>40.73530</td>\n",
       "      <td>-74.00525</td>\n",
       "      <td>Entire home/apt</td>\n",
       "      <td>120.0</td>\n",
       "      <td>0.22</td>\n",
       "      <td>0</td>\n",
       "      <td>(40.7353, -74.00525)</td>\n",
       "      <td>3.061204</td>\n",
       "      <td>21.881117</td>\n",
       "      <td>6.100304</td>\n",
       "    </tr>\n",
       "    <tr>\n",
       "      <th>15</th>\n",
       "      <td>6848</td>\n",
       "      <td>15991</td>\n",
       "      <td>Brooklyn</td>\n",
       "      <td>Williamsburg</td>\n",
       "      <td>40.70837</td>\n",
       "      <td>-73.95352</td>\n",
       "      <td>Entire home/apt</td>\n",
       "      <td>140.0</td>\n",
       "      <td>1.20</td>\n",
       "      <td>46</td>\n",
       "      <td>(40.70837, -73.95352)</td>\n",
       "      <td>5.322433</td>\n",
       "      <td>16.616586</td>\n",
       "      <td>7.975017</td>\n",
       "    </tr>\n",
       "    <tr>\n",
       "      <th>16</th>\n",
       "      <td>7097</td>\n",
       "      <td>17571</td>\n",
       "      <td>Brooklyn</td>\n",
       "      <td>Fort Greene</td>\n",
       "      <td>40.69169</td>\n",
       "      <td>-73.97185</td>\n",
       "      <td>Entire home/apt</td>\n",
       "      <td>215.0</td>\n",
       "      <td>1.72</td>\n",
       "      <td>321</td>\n",
       "      <td>(40.69169, -73.97185)</td>\n",
       "      <td>6.798899</td>\n",
       "      <td>17.307031</td>\n",
       "      <td>6.142590</td>\n",
       "    </tr>\n",
       "    <tr>\n",
       "      <th>17</th>\n",
       "      <td>7322</td>\n",
       "      <td>18946</td>\n",
       "      <td>Manhattan</td>\n",
       "      <td>Chelsea</td>\n",
       "      <td>40.74192</td>\n",
       "      <td>-73.99501</td>\n",
       "      <td>Private room</td>\n",
       "      <td>140.0</td>\n",
       "      <td>2.12</td>\n",
       "      <td>12</td>\n",
       "      <td>(40.74192, -73.99501)</td>\n",
       "      <td>1.926338</td>\n",
       "      <td>21.506265</td>\n",
       "      <td>7.194778</td>\n",
       "    </tr>\n",
       "    <tr>\n",
       "      <th>18</th>\n",
       "      <td>7726</td>\n",
       "      <td>20950</td>\n",
       "      <td>Brooklyn</td>\n",
       "      <td>Crown Heights</td>\n",
       "      <td>40.67592</td>\n",
       "      <td>-73.94694</td>\n",
       "      <td>Entire home/apt</td>\n",
       "      <td>99.0</td>\n",
       "      <td>4.44</td>\n",
       "      <td>21</td>\n",
       "      <td>(40.67592, -73.94694)</td>\n",
       "      <td>8.910258</td>\n",
       "      <td>14.769397</td>\n",
       "      <td>8.372988</td>\n",
       "    </tr>\n",
       "    <tr>\n",
       "      <th>19</th>\n",
       "      <td>7750</td>\n",
       "      <td>17985</td>\n",
       "      <td>Manhattan</td>\n",
       "      <td>East Harlem</td>\n",
       "      <td>40.79685</td>\n",
       "      <td>-73.94872</td>\n",
       "      <td>Entire home/apt</td>\n",
       "      <td>190.0</td>\n",
       "      <td>0.00</td>\n",
       "      <td>249</td>\n",
       "      <td>(40.79685, -73.94872)</td>\n",
       "      <td>5.453676</td>\n",
       "      <td>22.591304</td>\n",
       "      <td>14.434757</td>\n",
       "    </tr>\n",
       "  </tbody>\n",
       "</table>\n",
       "</div>"
      ],
      "text/plain": [
       "    Listing_id  Host_id neighbourhood_group       neighbourhood  latitude  \\\n",
       "0         2539     2787            Brooklyn          Kensington  40.64749   \n",
       "1         2595     2845           Manhattan             Midtown  40.75362   \n",
       "2         3647     4632           Manhattan              Harlem  40.80902   \n",
       "3         3831     4869            Brooklyn        Clinton Hill  40.68514   \n",
       "4         5022     7192           Manhattan         East Harlem  40.79851   \n",
       "5         5099     7322           Manhattan         Murray Hill  40.74767   \n",
       "6         5121     7356            Brooklyn  Bedford-Stuyvesant  40.68688   \n",
       "7         5178     8967           Manhattan      Hell's Kitchen  40.76489   \n",
       "8         5203     7490           Manhattan     Upper West Side  40.80178   \n",
       "9         5238     7549           Manhattan           Chinatown  40.71344   \n",
       "10        5295     7702           Manhattan     Upper West Side  40.80316   \n",
       "11        5441     7989           Manhattan      Hell's Kitchen  40.76076   \n",
       "12        5803     9744            Brooklyn         South Slope  40.66829   \n",
       "13        6021    11528           Manhattan     Upper West Side  40.79826   \n",
       "14        6090    11975           Manhattan        West Village  40.73530   \n",
       "15        6848    15991            Brooklyn        Williamsburg  40.70837   \n",
       "16        7097    17571            Brooklyn         Fort Greene  40.69169   \n",
       "17        7322    18946           Manhattan             Chelsea  40.74192   \n",
       "18        7726    20950            Brooklyn       Crown Heights  40.67592   \n",
       "19        7750    17985           Manhattan         East Harlem  40.79685   \n",
       "\n",
       "    longitude        Room_type  Price_list  Rating  Availability_365  \\\n",
       "0   -73.97237     Private room       149.0    0.21               365   \n",
       "1   -73.98377  Entire home/apt       225.0    0.38               355   \n",
       "2   -73.94190     Private room       150.0    0.00               365   \n",
       "3   -73.95976  Entire home/apt        89.0    4.64               194   \n",
       "4   -73.94399  Entire home/apt        80.0    0.10                 0   \n",
       "5   -73.97500  Entire home/apt       200.0    0.59               129   \n",
       "6   -73.95596     Private room        60.0    0.40                 0   \n",
       "7   -73.98493     Private room        79.0    3.47               220   \n",
       "8   -73.96723     Private room        79.0    0.99                 0   \n",
       "9   -73.99037  Entire home/apt       150.0    1.33               188   \n",
       "10  -73.96545  Entire home/apt       135.0    0.43                 6   \n",
       "11  -73.98867     Private room        85.0    1.50                39   \n",
       "12  -73.98779     Private room        89.0    1.34               314   \n",
       "13  -73.96113     Private room        85.0    0.91               333   \n",
       "14  -74.00525  Entire home/apt       120.0    0.22                 0   \n",
       "15  -73.95352  Entire home/apt       140.0    1.20                46   \n",
       "16  -73.97185  Entire home/apt       215.0    1.72               321   \n",
       "17  -73.99501     Private room       140.0    2.12                12   \n",
       "18  -73.94694  Entire home/apt        99.0    4.44                21   \n",
       "19  -73.94872  Entire home/apt       190.0    0.00               249   \n",
       "\n",
       "                 location    D.Train  D.airport  D.Statue_of_liberty  \n",
       "0   (40.64749, -73.97237)  11.699223  16.388641             7.652417  \n",
       "1   (40.75362, -73.98377)   0.560817  21.443784             8.803805  \n",
       "2    (40.80902, -73.9419)   6.920867  23.304873            15.879021  \n",
       "3   (40.68514, -73.95976)   7.654630  16.105092             7.172440  \n",
       "4   (40.79851, -73.94399)   5.801883  22.483763            14.812923  \n",
       "5     (40.74767, -73.975)   0.597472  20.456315             8.754084  \n",
       "6   (40.68688, -73.95596)   7.535148  15.862788             7.483919  \n",
       "7   (40.76489, -73.98493)   1.494234  22.280375             9.797407  \n",
       "8   (40.80178, -73.96723)   5.506640  24.022556            14.103789  \n",
       "9   (40.71344, -73.99037)   4.507416  19.664608             5.305703  \n",
       "10  (40.80316, -73.96545)   5.682471  24.038589            14.309289  \n",
       "11  (40.76076, -73.98867)   1.311574  22.248658             9.241770  \n",
       "12  (40.66829, -73.98779)   9.424654  17.950067             5.321240  \n",
       "13  (40.79826, -73.96113)   5.230261  23.388938            14.010013  \n",
       "14   (40.7353, -74.00525)   3.061204  21.881117             6.100304  \n",
       "15  (40.70837, -73.95352)   5.322433  16.616586             7.975017  \n",
       "16  (40.69169, -73.97185)   6.798899  17.307031             6.142590  \n",
       "17  (40.74192, -73.99501)   1.926338  21.506265             7.194778  \n",
       "18  (40.67592, -73.94694)   8.910258  14.769397             8.372988  \n",
       "19  (40.79685, -73.94872)   5.453676  22.591304            14.434757  "
      ]
     },
     "execution_count": 6,
     "metadata": {},
     "output_type": "execute_result"
    }
   ],
   "source": [
    "df.head(20)"
   ]
  },
  {
   "cell_type": "code",
   "execution_count": 7,
   "id": "faef23aa",
   "metadata": {},
   "outputs": [
    {
     "data": {
      "text/plain": [
       "(48895, 14)"
      ]
     },
     "execution_count": 7,
     "metadata": {},
     "output_type": "execute_result"
    }
   ],
   "source": [
    "df.shape"
   ]
  },
  {
   "cell_type": "markdown",
   "id": "095b0719",
   "metadata": {},
   "source": [
    "### Missing values"
   ]
  },
  {
   "cell_type": "code",
   "execution_count": 8,
   "id": "0b1ef232",
   "metadata": {},
   "outputs": [
    {
     "data": {
      "text/plain": [
       "Listing_id             0\n",
       "Host_id                0\n",
       "neighbourhood_group    0\n",
       "neighbourhood          0\n",
       "latitude               0\n",
       "longitude              0\n",
       "Room_type              0\n",
       "Price_list             0\n",
       "Rating                 0\n",
       "Availability_365       0\n",
       "location               0\n",
       "D.Train                0\n",
       "D.airport              0\n",
       "D.Statue_of_liberty    0\n",
       "dtype: int64"
      ]
     },
     "execution_count": 8,
     "metadata": {},
     "output_type": "execute_result"
    }
   ],
   "source": [
    "# Check for missing values\n",
    "\n",
    "df.isnull().sum()\n",
    "\n",
    "# No missing values to handle"
   ]
  },
  {
   "cell_type": "markdown",
   "id": "80379b35",
   "metadata": {},
   "source": [
    "### Duplicates check"
   ]
  },
  {
   "cell_type": "code",
   "execution_count": 9,
   "id": "0428a2d7",
   "metadata": {},
   "outputs": [],
   "source": [
    "dups = df.duplicated()"
   ]
  },
  {
   "cell_type": "code",
   "execution_count": 10,
   "id": "ced1f198",
   "metadata": {},
   "outputs": [
    {
     "data": {
      "text/plain": [
       "(48895,)"
      ]
     },
     "execution_count": 10,
     "metadata": {},
     "output_type": "execute_result"
    }
   ],
   "source": [
    "dups.shape # No dups"
   ]
  },
  {
   "cell_type": "markdown",
   "id": "1da73685",
   "metadata": {},
   "source": [
    "### Extreme values checks"
   ]
  },
  {
   "cell_type": "code",
   "execution_count": 12,
   "id": "d7a79fdd",
   "metadata": {},
   "outputs": [
    {
     "data": {
      "text/plain": [
       "<AxesSubplot: xlabel='Rating', ylabel='Count'>"
      ]
     },
     "execution_count": 12,
     "metadata": {},
     "output_type": "execute_result"
    },
    {
     "data": {
      "image/png": "[encoded data removed]",
      "text/plain": [
       "<Figure size 640x480 with 1 Axes>"
      ]
     },
     "metadata": {},
     "output_type": "display_data"
    }
   ],
   "source": [
    "# Check the rating variable\n",
    "\n",
    "sns.histplot(df['Rating'], bins=20, kde = True)"
   ]
  },
  {
   "cell_type": "code",
   "execution_count": 13,
   "id": "dd92a056",
   "metadata": {},
   "outputs": [
    {
     "data": {
      "text/plain": [
       "<AxesSubplot: xlabel='Price_list', ylabel='Count'>"
      ]
     },
     "execution_count": 13,
     "metadata": {},
     "output_type": "execute_result"
    },
    {
     "data": {
      "image/png": "[encoded data removed]",
      "text/plain": [
       "<Figure size 640x480 with 1 Axes>"
      ]
     },
     "metadata": {},
     "output_type": "display_data"
    }
   ],
   "source": [
    "# Check the nieghbourhood variable\n",
    "\n",
    "sns.histplot(df['Price_list'], bins=20, kde = True)"
   ]
  },
  {
   "cell_type": "markdown",
   "id": "44f11274",
   "metadata": {},
   "source": [
    " **For the regression analysis, I am considering price and D.trainnumber of people.**"
   ]
  },
  {
   "cell_type": "markdown",
   "id": "731ae243",
   "metadata": {},
   "source": [
    "## 3. Data prep for regression analysis "
   ]
  },
  {
   "cell_type": "code",
   "execution_count": 19,
   "id": "a93114f6",
   "metadata": {},
   "outputs": [
    {
     "data": {
      "image/png": "[encoded data removed]",
      "text/plain": [
       "<Figure size 640x480 with 1 Axes>"
      ]
     },
     "metadata": {},
     "output_type": "display_data"
    }
   ],
   "source": [
    "# Create a scatterplot using matplotlib for another look at how the chosen variables plot against each other.\n",
    "\n",
    "df.plot(x = 'D.Train', y='Price_list',style='o') # The style option creates a scatterplot; without it, we only have lines.\n",
    "plt.title('Distance to train vs Price')  \n",
    "plt.xlabel('Distance to Train')  \n",
    "plt.ylabel('Price')  \n",
    "plt.show()"
   ]
  },
  {
   "cell_type": "code",
   "execution_count": 21,
   "id": "0cb2472e",
   "metadata": {},
   "outputs": [],
   "source": [
    "df_sub=df[df['Price_list'] < 50000.0]"
   ]
  },
  {
   "cell_type": "code",
   "execution_count": 22,
   "id": "31e60069",
   "metadata": {},
   "outputs": [
    {
     "data": {
      "text/plain": [
       "(48895, 14)"
      ]
     },
     "execution_count": 22,
     "metadata": {},
     "output_type": "execute_result"
    }
   ],
   "source": [
    "df_sub.shape"
   ]
  },
  {
   "cell_type": "code",
   "execution_count": 23,
   "id": "abc588a2",
   "metadata": {},
   "outputs": [
    {
     "data": {
      "text/html": [
       "<div>\n",
       "<style scoped>\n",
       "    .dataframe tbody tr th:only-of-type {\n",
       "        vertical-align: middle;\n",
       "    }\n",
       "\n",
       "    .dataframe tbody tr th {\n",
       "        vertical-align: top;\n",
       "    }\n",
       "\n",
       "    .dataframe thead th {\n",
       "        text-align: right;\n",
       "    }\n",
       "</style>\n",
       "<table border=\"1\" class=\"dataframe\">\n",
       "  <thead>\n",
       "    <tr style=\"text-align: right;\">\n",
       "      <th></th>\n",
       "      <th>Listing_id</th>\n",
       "      <th>Host_id</th>\n",
       "      <th>latitude</th>\n",
       "      <th>longitude</th>\n",
       "      <th>Price_list</th>\n",
       "      <th>Rating</th>\n",
       "      <th>Availability_365</th>\n",
       "      <th>D.Train</th>\n",
       "      <th>D.airport</th>\n",
       "      <th>D.Statue_of_liberty</th>\n",
       "    </tr>\n",
       "  </thead>\n",
       "  <tbody>\n",
       "    <tr>\n",
       "      <th>Listing_id</th>\n",
       "      <td>1.000000</td>\n",
       "      <td>0.588290</td>\n",
       "      <td>-0.003125</td>\n",
       "      <td>0.090908</td>\n",
       "      <td>0.010619</td>\n",
       "      <td>0.180221</td>\n",
       "      <td>0.085468</td>\n",
       "      <td>0.068046</td>\n",
       "      <td>-0.048427</td>\n",
       "      <td>0.088322</td>\n",
       "    </tr>\n",
       "    <tr>\n",
       "      <th>Host_id</th>\n",
       "      <td>0.588290</td>\n",
       "      <td>1.000000</td>\n",
       "      <td>0.020224</td>\n",
       "      <td>0.127055</td>\n",
       "      <td>0.015309</td>\n",
       "      <td>0.209783</td>\n",
       "      <td>0.203492</td>\n",
       "      <td>0.099366</td>\n",
       "      <td>-0.041337</td>\n",
       "      <td>0.148134</td>\n",
       "    </tr>\n",
       "    <tr>\n",
       "      <th>latitude</th>\n",
       "      <td>-0.003125</td>\n",
       "      <td>0.020224</td>\n",
       "      <td>1.000000</td>\n",
       "      <td>0.084788</td>\n",
       "      <td>0.033939</td>\n",
       "      <td>-0.018758</td>\n",
       "      <td>-0.010983</td>\n",
       "      <td>-0.350352</td>\n",
       "      <td>0.690300</td>\n",
       "      <td>0.518957</td>\n",
       "    </tr>\n",
       "    <tr>\n",
       "      <th>longitude</th>\n",
       "      <td>0.090908</td>\n",
       "      <td>0.127055</td>\n",
       "      <td>0.084788</td>\n",
       "      <td>1.000000</td>\n",
       "      <td>-0.150019</td>\n",
       "      <td>0.138516</td>\n",
       "      <td>0.082731</td>\n",
       "      <td>0.516739</td>\n",
       "      <td>-0.585731</td>\n",
       "      <td>0.731519</td>\n",
       "    </tr>\n",
       "    <tr>\n",
       "      <th>Price_list</th>\n",
       "      <td>0.010619</td>\n",
       "      <td>0.015309</td>\n",
       "      <td>0.033939</td>\n",
       "      <td>-0.150019</td>\n",
       "      <td>1.000000</td>\n",
       "      <td>-0.050564</td>\n",
       "      <td>0.081829</td>\n",
       "      <td>-0.167241</td>\n",
       "      <td>0.107156</td>\n",
       "      <td>-0.122853</td>\n",
       "    </tr>\n",
       "    <tr>\n",
       "      <th>Rating</th>\n",
       "      <td>0.180221</td>\n",
       "      <td>0.209783</td>\n",
       "      <td>-0.018758</td>\n",
       "      <td>0.138516</td>\n",
       "      <td>-0.050564</td>\n",
       "      <td>1.000000</td>\n",
       "      <td>0.163732</td>\n",
       "      <td>0.118515</td>\n",
       "      <td>-0.093280</td>\n",
       "      <td>0.114137</td>\n",
       "    </tr>\n",
       "    <tr>\n",
       "      <th>Availability_365</th>\n",
       "      <td>0.085468</td>\n",
       "      <td>0.203492</td>\n",
       "      <td>-0.010983</td>\n",
       "      <td>0.082731</td>\n",
       "      <td>0.081829</td>\n",
       "      <td>0.163732</td>\n",
       "      <td>1.000000</td>\n",
       "      <td>0.092485</td>\n",
       "      <td>-0.035940</td>\n",
       "      <td>0.099253</td>\n",
       "    </tr>\n",
       "    <tr>\n",
       "      <th>D.Train</th>\n",
       "      <td>0.068046</td>\n",
       "      <td>0.099366</td>\n",
       "      <td>-0.350352</td>\n",
       "      <td>0.516739</td>\n",
       "      <td>-0.167241</td>\n",
       "      <td>0.118515</td>\n",
       "      <td>0.092485</td>\n",
       "      <td>1.000000</td>\n",
       "      <td>-0.380787</td>\n",
       "      <td>0.512551</td>\n",
       "    </tr>\n",
       "    <tr>\n",
       "      <th>D.airport</th>\n",
       "      <td>-0.048427</td>\n",
       "      <td>-0.041337</td>\n",
       "      <td>0.690300</td>\n",
       "      <td>-0.585731</td>\n",
       "      <td>0.107156</td>\n",
       "      <td>-0.093280</td>\n",
       "      <td>-0.035940</td>\n",
       "      <td>-0.380787</td>\n",
       "      <td>1.000000</td>\n",
       "      <td>0.049117</td>\n",
       "    </tr>\n",
       "    <tr>\n",
       "      <th>D.Statue_of_liberty</th>\n",
       "      <td>0.088322</td>\n",
       "      <td>0.148134</td>\n",
       "      <td>0.518957</td>\n",
       "      <td>0.731519</td>\n",
       "      <td>-0.122853</td>\n",
       "      <td>0.114137</td>\n",
       "      <td>0.099253</td>\n",
       "      <td>0.512551</td>\n",
       "      <td>0.049117</td>\n",
       "      <td>1.000000</td>\n",
       "    </tr>\n",
       "  </tbody>\n",
       "</table>\n",
       "</div>"
      ],
      "text/plain": [
       "                     Listing_id   Host_id  latitude  longitude  Price_list  \\\n",
       "Listing_id             1.000000  0.588290 -0.003125   0.090908    0.010619   \n",
       "Host_id                0.588290  1.000000  0.020224   0.127055    0.015309   \n",
       "latitude              -0.003125  0.020224  1.000000   0.084788    0.033939   \n",
       "longitude              0.090908  0.127055  0.084788   1.000000   -0.150019   \n",
       "Price_list             0.010619  0.015309  0.033939  -0.150019    1.000000   \n",
       "Rating                 0.180221  0.209783 -0.018758   0.138516   -0.050564   \n",
       "Availability_365       0.085468  0.203492 -0.010983   0.082731    0.081829   \n",
       "D.Train                0.068046  0.099366 -0.350352   0.516739   -0.167241   \n",
       "D.airport             -0.048427 -0.041337  0.690300  -0.585731    0.107156   \n",
       "D.Statue_of_liberty    0.088322  0.148134  0.518957   0.731519   -0.122853   \n",
       "\n",
       "                       Rating  Availability_365   D.Train  D.airport  \\\n",
       "Listing_id           0.180221          0.085468  0.068046  -0.048427   \n",
       "Host_id              0.209783          0.203492  0.099366  -0.041337   \n",
       "latitude            -0.018758         -0.010983 -0.350352   0.690300   \n",
       "longitude            0.138516          0.082731  0.516739  -0.585731   \n",
       "Price_list          -0.050564          0.081829 -0.167241   0.107156   \n",
       "Rating               1.000000          0.163732  0.118515  -0.093280   \n",
       "Availability_365     0.163732          1.000000  0.092485  -0.035940   \n",
       "D.Train              0.118515          0.092485  1.000000  -0.380787   \n",
       "D.airport           -0.093280         -0.035940 -0.380787   1.000000   \n",
       "D.Statue_of_liberty  0.114137          0.099253  0.512551   0.049117   \n",
       "\n",
       "                     D.Statue_of_liberty  \n",
       "Listing_id                      0.088322  \n",
       "Host_id                         0.148134  \n",
       "latitude                        0.518957  \n",
       "longitude                       0.731519  \n",
       "Price_list                     -0.122853  \n",
       "Rating                          0.114137  \n",
       "Availability_365                0.099253  \n",
       "D.Train                         0.512551  \n",
       "D.airport                       0.049117  \n",
       "D.Statue_of_liberty             1.000000  "
      ]
     },
     "execution_count": 23,
     "metadata": {},
     "output_type": "execute_result"
    }
   ],
   "source": [
    "df_sub.corr()"
   ]
  },
  {
   "cell_type": "code",
   "execution_count": 24,
   "id": "e5a9f88a",
   "metadata": {},
   "outputs": [],
   "source": [
    "#reshaping using Numpyarray for regression analysis\n",
    "\n",
    "X=df_sub['D.Statue_of_liberty'].values.reshape(-1,1)\n",
    "y=df_sub['Price_list'].values.reshape(-1,1)"
   ]
  },
  {
   "cell_type": "code",
   "execution_count": 25,
   "id": "058bcd22",
   "metadata": {},
   "outputs": [
    {
     "data": {
      "text/plain": [
       "array([[ 7.65241736],\n",
       "       [ 8.8038053 ],\n",
       "       [15.87902096],\n",
       "       ...,\n",
       "       [16.12156323],\n",
       "       [ 8.82581861],\n",
       "       [ 9.52949177]])"
      ]
     },
     "execution_count": 25,
     "metadata": {},
     "output_type": "execute_result"
    }
   ],
   "source": [
    "X"
   ]
  },
  {
   "cell_type": "code",
   "execution_count": 26,
   "id": "c64f540c",
   "metadata": {},
   "outputs": [
    {
     "data": {
      "text/plain": [
       "array([[149.],\n",
       "       [225.],\n",
       "       [150.],\n",
       "       ...,\n",
       "       [115.],\n",
       "       [ 55.],\n",
       "       [ 90.]])"
      ]
     },
     "execution_count": 26,
     "metadata": {},
     "output_type": "execute_result"
    }
   ],
   "source": [
    "y"
   ]
  },
  {
   "cell_type": "code",
   "execution_count": 27,
   "id": "70e460b8",
   "metadata": {},
   "outputs": [],
   "source": [
    "#splitting data for test and train\n",
    "\n",
    "X_train , X_test , y_train , y_test = train_test_split(X , y , test_size=0.3 , random_state=0)"
   ]
  },
  {
   "cell_type": "markdown",
   "id": "e2586a09",
   "metadata": {},
   "source": [
    "## 4.Regression Analysis"
   ]
  },
  {
   "cell_type": "code",
   "execution_count": 28,
   "id": "11c9abed",
   "metadata": {},
   "outputs": [],
   "source": [
    "#create an object for linear regression\n",
    "\n",
    "regression=LinearRegression()"
   ]
  },
  {
   "cell_type": "code",
   "execution_count": 29,
   "id": "a779ba66",
   "metadata": {},
   "outputs": [
    {
     "data": {
      "text/plain": [
       "LinearRegression()"
      ]
     },
     "execution_count": 29,
     "metadata": {},
     "output_type": "execute_result"
    }
   ],
   "source": [
    "#fit the regression object on train data set\n",
    "\n",
    "regression.fit(X_train, y_train)"
   ]
  },
  {
   "cell_type": "code",
   "execution_count": 30,
   "id": "b5efa65d",
   "metadata": {},
   "outputs": [],
   "source": [
    "#predict y values using X\n",
    "y_predicted= regression.predict(X_test)"
   ]
  },
  {
   "cell_type": "code",
   "execution_count": 31,
   "id": "2ced11e1",
   "metadata": {},
   "outputs": [
    {
     "data": {
      "text/plain": [
       "array([[188.18378417],\n",
       "       [181.11274629],\n",
       "       [164.88929634],\n",
       "       ...,\n",
       "       [141.2140323 ],\n",
       "       [178.16685697],\n",
       "       [180.78099548]])"
      ]
     },
     "execution_count": 31,
     "metadata": {},
     "output_type": "execute_result"
    }
   ],
   "source": [
    "y_predicted"
   ]
  },
  {
   "cell_type": "code",
   "execution_count": 32,
   "id": "03697464",
   "metadata": {},
   "outputs": [
    {
     "data": {
      "image/png": "[encoded data removed]",
      "text/plain": [
       "<Figure size 640x480 with 1 Axes>"
      ]
     },
     "metadata": {},
     "output_type": "display_data"
    }
   ],
   "source": [
    "#plot predicted values in scatterpolt\n",
    "\n",
    "plot_test = plt\n",
    "plot_test.scatter(X_test, y_test, color='gray', s = 15)\n",
    "plot_test.plot(X_test, y_predicted, color='red', linewidth =3)\n",
    "plot_test.title('Distance from center to price')\n",
    "plot_test.xlabel('Distance from center')\n",
    "plot_test.ylabel('Price ')\n",
    "plot_test.show()"
   ]
  },
  {
   "cell_type": "code",
   "execution_count": 33,
   "id": "66ca85fe",
   "metadata": {},
   "outputs": [],
   "source": [
    "#create objects that contain summary of predicted values\n",
    "\n",
    "rmse = mean_squared_error(y_test,y_predicted)\n",
    "r2=r2_score(y_test , y_predicted)"
   ]
  },
  {
   "cell_type": "code",
   "execution_count": 34,
   "id": "e7f6b644",
   "metadata": {},
   "outputs": [
    {
     "name": "stdout",
     "output_type": "stream",
     "text": [
      "Slope: [[-6.24203105]]\n",
      "Mean squared error:  52160.925683612986\n",
      "R2 score:  0.018185565259442815\n"
     ]
    }
   ],
   "source": [
    "# Print the model summary statistics. This is where you evaluate the performance of the model.\n",
    "\n",
    "print('Slope:' ,regression.coef_)\n",
    "print('Mean squared error: ', rmse)\n",
    "print('R2 score: ', r2)"
   ]
  },
  {
   "cell_type": "code",
   "execution_count": 35,
   "id": "e275e225",
   "metadata": {},
   "outputs": [
    {
     "data": {
      "text/html": [
       "<div>\n",
       "<style scoped>\n",
       "    .dataframe tbody tr th:only-of-type {\n",
       "        vertical-align: middle;\n",
       "    }\n",
       "\n",
       "    .dataframe tbody tr th {\n",
       "        vertical-align: top;\n",
       "    }\n",
       "\n",
       "    .dataframe thead th {\n",
       "        text-align: right;\n",
       "    }\n",
       "</style>\n",
       "<table border=\"1\" class=\"dataframe\">\n",
       "  <thead>\n",
       "    <tr style=\"text-align: right;\">\n",
       "      <th></th>\n",
       "      <th>Actual</th>\n",
       "      <th>Predicted</th>\n",
       "    </tr>\n",
       "  </thead>\n",
       "  <tbody>\n",
       "    <tr>\n",
       "      <th>0</th>\n",
       "      <td>225.0</td>\n",
       "      <td>188.183784</td>\n",
       "    </tr>\n",
       "    <tr>\n",
       "      <th>1</th>\n",
       "      <td>649.0</td>\n",
       "      <td>181.112746</td>\n",
       "    </tr>\n",
       "    <tr>\n",
       "      <th>2</th>\n",
       "      <td>300.0</td>\n",
       "      <td>164.889296</td>\n",
       "    </tr>\n",
       "    <tr>\n",
       "      <th>3</th>\n",
       "      <td>26.0</td>\n",
       "      <td>179.364098</td>\n",
       "    </tr>\n",
       "    <tr>\n",
       "      <th>4</th>\n",
       "      <td>125.0</td>\n",
       "      <td>159.429984</td>\n",
       "    </tr>\n",
       "  </tbody>\n",
       "</table>\n",
       "</div>"
      ],
      "text/plain": [
       "   Actual   Predicted\n",
       "0   225.0  188.183784\n",
       "1   649.0  181.112746\n",
       "2   300.0  164.889296\n",
       "3    26.0  179.364098\n",
       "4   125.0  159.429984"
      ]
     },
     "execution_count": 35,
     "metadata": {},
     "output_type": "execute_result"
    }
   ],
   "source": [
    "# Create a dataframe comparing the actual and predicted values of y.\n",
    "\n",
    "data=pd.DataFrame({'Actual' : y_test.flatten(), 'Predicted': y_predicted.flatten()})\n",
    "data.head()"
   ]
  },
  {
   "cell_type": "code",
   "execution_count": 36,
   "id": "7c31406b",
   "metadata": {},
   "outputs": [],
   "source": [
    "# Predict.\n",
    "\n",
    "y_predicted_train = regression.predict(X_train) # This is predicting X_train!"
   ]
  },
  {
   "cell_type": "code",
   "execution_count": 37,
   "id": "8f5885ee",
   "metadata": {},
   "outputs": [],
   "source": [
    "rmse = mean_squared_error(y_train, y_predicted_train)\n",
    "r2 = r2_score(y_train, y_predicted_train)"
   ]
  },
  {
   "cell_type": "code",
   "execution_count": 38,
   "id": "ba202b4e",
   "metadata": {},
   "outputs": [
    {
     "name": "stdout",
     "output_type": "stream",
     "text": [
      "Slope: [[-6.24203105]]\n",
      "Mean squared error:  58792.57904370817\n",
      "R2 score:  0.013894757331757046\n"
     ]
    }
   ],
   "source": [
    "print('Slope:' ,regression.coef_)\n",
    "print('Mean squared error: ', rmse)\n",
    "print('R2 score: ', r2)"
   ]
  },
  {
   "cell_type": "code",
   "execution_count": 39,
   "id": "9d3a4672",
   "metadata": {},
   "outputs": [
    {
     "data": {
      "image/png": "[encoded data removed]",
      "text/plain": [
       "<Figure size 640x480 with 1 Axes>"
      ]
     },
     "metadata": {},
     "output_type": "display_data"
    }
   ],
   "source": [
    "# Visualizing the training set results.\n",
    "\n",
    "plot_test = plt\n",
    "plot_test.scatter(X_train, y_train, color='green', s = 15)\n",
    "plot_test.plot(X_train, y_predicted_train, color='red', linewidth =3)\n",
    "plot_test.title('Distance. from center to price')\n",
    "plot_test.xlabel('Distance from center')\n",
    "plot_test.ylabel('Price')\n",
    "plot_test.show()"
   ]
  },
  {
   "cell_type": "markdown",
   "id": "7698b6f8",
   "metadata": {},
   "source": [
    "**From the R2(too low) and mean squared error(too high), we can understand that there is no linear relation between Distance and Price that can stay in the Airbnb to price. This model is not suitable for the data set we have here.**"
   ]
  },
  {
   "cell_type": "code",
   "execution_count": null,
   "id": "dffc27b4",
   "metadata": {},
   "outputs": [],
   "source": []
  }
 ],
 "metadata": {
  "kernelspec": {
   "display_name": "Python 3 (ipykernel)",
   "language": "python",
   "name": "python3"
  },
  "language_info": {
   "codemirror_mode": {
    "name": "ipython",
    "version": 3
   },
   "file_extension": ".py",
   "mimetype": "text/x-python",
   "name": "python",
   "nbconvert_exporter": "python",
   "pygments_lexer": "ipython3",
   "version": "3.9.13"
  }
 },
 "nbformat": 4,
 "nbformat_minor": 5
}
